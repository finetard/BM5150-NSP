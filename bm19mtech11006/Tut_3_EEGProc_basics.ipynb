{
 "cells": [
  {
   "cell_type": "markdown",
   "metadata": {},
   "source": [
    "# <center>EEG signal processing - basics</center>\n",
    "\n",
    "### Exercises\n",
    "\n",
    "#### Importing Data\n",
    "1. Get the EEG/MEG dataset from https://mne.tools/0.11/auto_tutorials/plot_introduction.html?highlight=eeg#access-raw-data\n",
    "2. Import data using standard import functions"
   ]
  },
  {
   "cell_type": "code",
   "execution_count": 45,
   "metadata": {
    "scrolled": false
   },
   "outputs": [
    {
     "name": "stdout",
     "output_type": "stream",
     "text": [
      "/Users/sreedevs/mne_data/MNE-sample-data/MEG/sample/sample_audvis_filt-0-40_raw.fif\n"
     ]
    }
   ],
   "source": [
    "import numpy as np\n",
    "import matplotlib.pyplot as plt\n",
    "import mne\n",
    "from mne.datasets import sample\n",
    "data_path = sample.data_path()\n",
    "raw_fname = data_path + '/MEG/sample/sample_audvis_filt-0-40_raw.fif'\n",
    "print(raw_fname)"
   ]
  },
  {
   "cell_type": "code",
   "execution_count": 50,
   "metadata": {},
   "outputs": [
    {
     "name": "stdout",
     "output_type": "stream",
     "text": [
      "Opening raw data file /Users/sreedevs/mne_data/MNE-sample-data/MEG/sample/sample_audvis_filt-0-40_raw.fif...\n",
      "    Read a total of 4 projection items:\n",
      "        PCA-v1 (1 x 102)  idle\n",
      "        PCA-v2 (1 x 102)  idle\n",
      "        PCA-v3 (1 x 102)  idle\n",
      "        Average EEG reference (1 x 60)  idle\n",
      "    Range : 6450 ... 48149 =     42.956 ...   320.665 secs\n",
      "Ready.\n",
      "Current compensation grade : 0\n",
      "<Info | 19 non-empty fields\n",
      "    bads : list | MEG 2443, EEG 053\n",
      "    ch_names : list | MEG 0113, MEG 0112, MEG 0111, MEG 0122, MEG 0123, ...\n",
      "    chs : list | 376 items (GRAD: 204, MAG: 102, STIM: 9, EEG: 60, EOG: 1)\n",
      "    comps : list | 0 items\n",
      "    custom_ref_applied : bool | False\n",
      "    dev_head_t : Transform | 3 items\n",
      "    dig : Digitization | 146 items (3 Cardinal, 4 HPI, 61 EEG, 78 Extra)\n",
      "    events : list | 0 items\n",
      "    file_id : dict | 4 items\n",
      "    highpass : float | 0.10000000149011612 Hz\n",
      "    hpi_meas : list | 1 items\n",
      "    hpi_results : list | 1 items\n",
      "    lowpass : float | 40.0 Hz\n",
      "    meas_date : tuple | 2002-12-03 19:01:10 GMT\n",
      "    meas_id : dict | 4 items\n",
      "    nchan : int | 376\n",
      "    proc_history : list | 0 items\n",
      "    projs : list | PCA-v1: off, PCA-v2: off, PCA-v3: off, ...\n",
      "    sfreq : float | 150.15374755859375 Hz\n",
      "    acq_pars : NoneType\n",
      "    acq_stim : NoneType\n",
      "    ctf_head_t : NoneType\n",
      "    description : NoneType\n",
      "    dev_ctf_t : NoneType\n",
      "    device_info : NoneType\n",
      "    experimenter : NoneType\n",
      "    gantry_angle : NoneType\n",
      "    helium_info : NoneType\n",
      "    hpi_subsystem : NoneType\n",
      "    kit_system_id : NoneType\n",
      "    line_freq : NoneType\n",
      "    proj_id : NoneType\n",
      "    proj_name : NoneType\n",
      "    subject_info : NoneType\n",
      "    utc_offset : NoneType\n",
      "    xplotter_layout : NoneType\n",
      ">\n",
      "<Raw  |  sample_audvis_filt-0-40_raw.fif, n_channels x n_times : 376 x 41700 (277.7 sec), ~3.6 MB, data not loaded>\n"
     ]
    }
   ],
   "source": [
    "raw = mne.io.Raw(raw_fname)\n",
    "info = raw.info\n",
    "print(info)\n",
    "print(raw)"
   ]
  },
  {
   "cell_type": "markdown",
   "metadata": {},
   "source": [
    "#### Checking data structures\n",
    "3. What are the various information in the data?\n",
    "<p>Printing raw file gives information about SSP projector calculated to remove environmental noise from the MEG signals, plus a projector to mean reference the EEG channels. Which are represented as PCA components</p>\n",
    "<p>Just by printing the loaded raw file some information can be obtained. It shows 376(number of channels) x 41700 (no of times) (277.7 sec), and approximate size is 3.6 MB </p>\n",
    "\n",
    "4. How are they structured?\n",
    "<p>info : dict <br> ch_names : list of str <br> n_times : int <br> times : ndarray (numpy array)</p>\n",
    "5. Can you extract each of them separately? How?\n",
    "<p>Various methods are defined for the RAW class. Using these methods we can extract the data. Example is shown in exercise 6, printing the channel names</p>\n",
    "<p>For example we can also show selecting eog channel by indices and plotting it</p>"
   ]
  },
  {
   "cell_type": "code",
   "execution_count": 47,
   "metadata": {},
   "outputs": [
    {
     "name": "stdout",
     "output_type": "stream",
     "text": [
      "(1, 41700)\n",
      "(41700,)\n"
     ]
    },
    {
     "data": {
      "image/png": "[encoded data removed]",
      "text/plain": [
       "<Figure size 432x288 with 1 Axes>"
      ]
     },
     "metadata": {
      "needs_background": "light"
     },
     "output_type": "display_data"
    }
   ],
   "source": [
    "eog_channel_indices = mne.pick_types(raw.info, meg=False, eeg=False, eog= True)\n",
    "eog_data, times = raw[eog_channel_indices]\n",
    "x = plt.plot(times, eog_data[0])\n",
    "plt.xlabel('time')\n",
    "plt.ylabel('Amplitude')\n",
    "plt.title(\"EOG\")\n",
    "plt.show()"
   ]
  },
  {
   "cell_type": "markdown",
   "metadata": {},
   "source": [
    "6. Can you list all the channel names? \n",
    "7. List only all EEG channel labels?"
   ]
  },
  {
   "cell_type": "code",
   "execution_count": 48,
   "metadata": {},
   "outputs": [
    {
     "name": "stdout",
     "output_type": "stream",
     "text": [
      "['MEG 0113', 'MEG 0112', 'MEG 0111', 'MEG 0122', 'MEG 0123', 'MEG 0121', 'MEG 0132', 'MEG 0133', 'MEG 0131', 'MEG 0143', 'MEG 0142', 'MEG 0141', 'MEG 0213', 'MEG 0212', 'MEG 0211', 'MEG 0222', 'MEG 0223', 'MEG 0221', 'MEG 0232', 'MEG 0233', 'MEG 0231', 'MEG 0243', 'MEG 0242', 'MEG 0241', 'MEG 0313', 'MEG 0312', 'MEG 0311', 'MEG 0322', 'MEG 0323', 'MEG 0321', 'MEG 0333', 'MEG 0332', 'MEG 0331', 'MEG 0343', 'MEG 0342', 'MEG 0341', 'MEG 0413', 'MEG 0412', 'MEG 0411', 'MEG 0422', 'MEG 0423', 'MEG 0421', 'MEG 0432', 'MEG 0433', 'MEG 0431', 'MEG 0443', 'MEG 0442', 'MEG 0441', 'MEG 0513', 'MEG 0512', 'MEG 0511', 'MEG 0523', 'MEG 0522', 'MEG 0521', 'MEG 0532', 'MEG 0533', 'MEG 0531', 'MEG 0542', 'MEG 0543', 'MEG 0541', 'MEG 0613', 'MEG 0612', 'MEG 0611', 'MEG 0622', 'MEG 0623', 'MEG 0621', 'MEG 0633', 'MEG 0632', 'MEG 0631', 'MEG 0642', 'MEG 0643', 'MEG 0641', 'MEG 0713', 'MEG 0712', 'MEG 0711', 'MEG 0723', 'MEG 0722', 'MEG 0721', 'MEG 0733', 'MEG 0732', 'MEG 0731', 'MEG 0743', 'MEG 0742', 'MEG 0741', 'MEG 0813', 'MEG 0812', 'MEG 0811', 'MEG 0822', 'MEG 0823', 'MEG 0821', 'MEG 0913', 'MEG 0912', 'MEG 0911', 'MEG 0923', 'MEG 0922', 'MEG 0921', 'MEG 0932', 'MEG 0933', 'MEG 0931', 'MEG 0942', 'MEG 0943', 'MEG 0941', 'MEG 1013', 'MEG 1012', 'MEG 1011', 'MEG 1023', 'MEG 1022', 'MEG 1021', 'MEG 1032', 'MEG 1033', 'MEG 1031', 'MEG 1043', 'MEG 1042', 'MEG 1041', 'MEG 1112', 'MEG 1113', 'MEG 1111', 'MEG 1123', 'MEG 1122', 'MEG 1121', 'MEG 1133', 'MEG 1132', 'MEG 1131', 'MEG 1142', 'MEG 1143', 'MEG 1141', 'MEG 1213', 'MEG 1212', 'MEG 1211', 'MEG 1223', 'MEG 1222', 'MEG 1221', 'MEG 1232', 'MEG 1233', 'MEG 1231', 'MEG 1243', 'MEG 1242', 'MEG 1241', 'MEG 1312', 'MEG 1313', 'MEG 1311', 'MEG 1323', 'MEG 1322', 'MEG 1321', 'MEG 1333', 'MEG 1332', 'MEG 1331', 'MEG 1342', 'MEG 1343', 'MEG 1341', 'MEG 1412', 'MEG 1413', 'MEG 1411', 'MEG 1423', 'MEG 1422', 'MEG 1421', 'MEG 1433', 'MEG 1432', 'MEG 1431', 'MEG 1442', 'MEG 1443', 'MEG 1441', 'MEG 1512', 'MEG 1513', 'MEG 1511', 'MEG 1522', 'MEG 1523', 'MEG 1521', 'MEG 1533', 'MEG 1532', 'MEG 1531', 'MEG 1543', 'MEG 1542', 'MEG 1541', 'MEG 1613', 'MEG 1612', 'MEG 1611', 'MEG 1622', 'MEG 1623', 'MEG 1621', 'MEG 1632', 'MEG 1633', 'MEG 1631', 'MEG 1643', 'MEG 1642', 'MEG 1641', 'MEG 1713', 'MEG 1712', 'MEG 1711', 'MEG 1722', 'MEG 1723', 'MEG 1721', 'MEG 1732', 'MEG 1733', 'MEG 1731', 'MEG 1743', 'MEG 1742', 'MEG 1741', 'MEG 1813', 'MEG 1812', 'MEG 1811', 'MEG 1822', 'MEG 1823', 'MEG 1821', 'MEG 1832', 'MEG 1833', 'MEG 1831', 'MEG 1843', 'MEG 1842', 'MEG 1841', 'MEG 1912', 'MEG 1913', 'MEG 1911', 'MEG 1923', 'MEG 1922', 'MEG 1921', 'MEG 1932', 'MEG 1933', 'MEG 1931', 'MEG 1943', 'MEG 1942', 'MEG 1941', 'MEG 2013', 'MEG 2012', 'MEG 2011', 'MEG 2023', 'MEG 2022', 'MEG 2021', 'MEG 2032', 'MEG 2033', 'MEG 2031', 'MEG 2042', 'MEG 2043', 'MEG 2041', 'MEG 2113', 'MEG 2112', 'MEG 2111', 'MEG 2122', 'MEG 2123', 'MEG 2121', 'MEG 2133', 'MEG 2132', 'MEG 2131', 'MEG 2143', 'MEG 2142', 'MEG 2141', 'MEG 2212', 'MEG 2213', 'MEG 2211', 'MEG 2223', 'MEG 2222', 'MEG 2221', 'MEG 2233', 'MEG 2232', 'MEG 2231', 'MEG 2242', 'MEG 2243', 'MEG 2241', 'MEG 2312', 'MEG 2313', 'MEG 2311', 'MEG 2323', 'MEG 2322', 'MEG 2321', 'MEG 2332', 'MEG 2333', 'MEG 2331', 'MEG 2343', 'MEG 2342', 'MEG 2341', 'MEG 2412', 'MEG 2413', 'MEG 2411', 'MEG 2423', 'MEG 2422', 'MEG 2421', 'MEG 2433', 'MEG 2432', 'MEG 2431', 'MEG 2442', 'MEG 2443', 'MEG 2441', 'MEG 2512', 'MEG 2513', 'MEG 2511', 'MEG 2522', 'MEG 2523', 'MEG 2521', 'MEG 2533', 'MEG 2532', 'MEG 2531', 'MEG 2543', 'MEG 2542', 'MEG 2541', 'MEG 2612', 'MEG 2613', 'MEG 2611', 'MEG 2623', 'MEG 2622', 'MEG 2621', 'MEG 2633', 'MEG 2632', 'MEG 2631', 'MEG 2642', 'MEG 2643', 'MEG 2641', 'STI 001', 'STI 002', 'STI 003', 'STI 004', 'STI 005', 'STI 006', 'STI 014', 'STI 015', 'STI 016', 'EEG 001', 'EEG 002', 'EEG 003', 'EEG 004', 'EEG 005', 'EEG 006', 'EEG 007', 'EEG 008', 'EEG 009', 'EEG 010', 'EEG 011', 'EEG 012', 'EEG 013', 'EEG 014', 'EEG 015', 'EEG 016', 'EEG 017', 'EEG 018', 'EEG 019', 'EEG 020', 'EEG 021', 'EEG 022', 'EEG 023', 'EEG 024', 'EEG 025', 'EEG 026', 'EEG 027', 'EEG 028', 'EEG 029', 'EEG 030', 'EEG 031', 'EEG 032', 'EEG 033', 'EEG 034', 'EEG 035', 'EEG 036', 'EEG 037', 'EEG 038', 'EEG 039', 'EEG 040', 'EEG 041', 'EEG 042', 'EEG 043', 'EEG 044', 'EEG 045', 'EEG 046', 'EEG 047', 'EEG 048', 'EEG 049', 'EEG 050', 'EEG 051', 'EEG 052', 'EEG 053', 'EEG 054', 'EEG 055', 'EEG 056', 'EEG 057', 'EEG 058', 'EEG 059', 'EEG 060', 'EOG 061']\n",
      "Total number of channels 376\n",
      "Number of MEG channels 306\n",
      "Number of EEG channels 60\n",
      "Number of STI channels 9\n",
      "Number of EOG channels 1\n"
     ]
    }
   ],
   "source": [
    "#All the channel Names\n",
    "print(raw.ch_names)\n",
    "\n",
    "meg_ch = [x for x in raw.ch_names if x.startswith('MEG')]\n",
    "\n",
    "eeg_ch = [x for x in raw.ch_names if x.startswith('EEG')]\n",
    "\n",
    "eog_ch = [x for x in raw.ch_names if x.startswith('EOG')]\n",
    "\n",
    "sti_ch = [x for x in raw.ch_names if x.startswith('STI')]\n",
    "\n",
    "channel_name = ['MEG','EEG','STI','EOG']\n",
    "channel_length = [len(meg_ch),len(eeg_ch),len(sti_ch),len(eog_ch)]\n",
    "\n",
    "print(\"Total number of channels {}\".format(len(raw.ch_names)))\n",
    "x = [print(\"Number of {} channels {}\".format(x,y)) for x,y in zip(channel_name, channel_length)]"
   ]
  },
  {
   "cell_type": "code",
   "execution_count": 49,
   "metadata": {
    "scrolled": false
   },
   "outputs": [
    {
     "name": "stdout",
     "output_type": "stream",
     "text": [
      "EEG 001\n",
      "EEG 002\n",
      "EEG 003\n",
      "EEG 004\n",
      "EEG 005\n",
      "EEG 006\n",
      "EEG 007\n",
      "EEG 008\n",
      "EEG 009\n",
      "EEG 010\n",
      "EEG 011\n",
      "EEG 012\n",
      "EEG 013\n",
      "EEG 014\n",
      "EEG 015\n",
      "EEG 016\n",
      "EEG 017\n",
      "EEG 018\n",
      "EEG 019\n",
      "EEG 020\n",
      "EEG 021\n",
      "EEG 022\n",
      "EEG 023\n",
      "EEG 024\n",
      "EEG 025\n",
      "EEG 026\n",
      "EEG 027\n",
      "EEG 028\n",
      "EEG 029\n",
      "EEG 030\n",
      "EEG 031\n",
      "EEG 032\n",
      "EEG 033\n",
      "EEG 034\n",
      "EEG 035\n",
      "EEG 036\n",
      "EEG 037\n",
      "EEG 038\n",
      "EEG 039\n",
      "EEG 040\n",
      "EEG 041\n",
      "EEG 042\n",
      "EEG 043\n",
      "EEG 044\n",
      "EEG 045\n",
      "EEG 046\n",
      "EEG 047\n",
      "EEG 048\n",
      "EEG 049\n",
      "EEG 050\n",
      "EEG 051\n",
      "EEG 052\n",
      "EEG 053\n",
      "EEG 054\n",
      "EEG 055\n",
      "EEG 056\n",
      "EEG 057\n",
      "EEG 058\n",
      "EEG 059\n",
      "EEG 060\n"
     ]
    }
   ],
   "source": [
    "#EEG Channels\n",
    "print('\\n'.join(eeg_ch))"
   ]
  },
  {
   "cell_type": "markdown",
   "metadata": {},
   "source": [
    "8. How are the data structure of channel labels different from the time series?\n",
    "<p>Channel labels are list of strings, where as time series is ndarray</p>\n",
    "\n",
    "9. Can you find any meta information about the data?\n",
    "<p><b>mne.info()</b> is a class, which include a  datastructure made out of available python data types. Channel names, channel list are stored as list. And proper data types are used to represent other fields.</p>\n",
    "<p>Printing info gives a lot of information about the raw data. Including channel names, bad channels, channel list, device to head transformation, digitization, info about project (project name, subject info etc), filtering done, etc </p>\n",
    "\n",
    "10. What were the filters already applied in the data during recording?\n",
    "<p>High pass filtering at 0.1 Hz <br>Low pass filtering at 40 Hz.<br>So the signal is band pass, having frequency components from 0.1 Hz to 40 Hz</p>\n",
    "11. Do you find something like channel type? What are the types in your signal?\n",
    "<p>Channel types represents the data that channel contains. Various channel types in this data are MEG, EEG, STI, EOG</p>"
   ]
  },
  {
   "cell_type": "markdown",
   "metadata": {
    "scrolled": false
   },
   "source": [
    "#### Plotting RAW data\n",
    "12. Plot the raw data - grouped by  channel type (MEG, EEG, STI channels) - How do they look?\n",
    "13. What is the typical amplitude of different channel types?\n",
    "14. Do you find any large fluctuations? If yes, what is the probable source?\n",
    "15. Can you find and plot the ECG/EOG channels?\n",
    "16. How does the STI channel differ from other channels?\n",
    "17. Can you find an STI channel? What is it?"
   ]
  }
 ],
 "metadata": {
  "kernelspec": {
   "display_name": "Python 3",
   "language": "python",
   "name": "python3"
  },
  "language_info": {
   "codemirror_mode": {
    "name": "ipython",
    "version": 3
   },
   "file_extension": ".py",
   "mimetype": "text/x-python",
   "name": "python",
   "nbconvert_exporter": "python",
   "pygments_lexer": "ipython3",
   "version": "3.7.4"
  }
 },
 "nbformat": 4,
 "nbformat_minor": 4
}
